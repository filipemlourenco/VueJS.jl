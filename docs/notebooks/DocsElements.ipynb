{
 "cells": [
  {
   "cell_type": "code",
   "execution_count": 1,
   "metadata": {},
   "outputs": [],
   "source": [
    "push!(LOAD_PATH,\"/workspace/VueJS.jl/src/\")\n",
    "using VueJS,HTTP"
   ]
  },
  {
   "cell_type": "markdown",
   "metadata": {},
   "source": [
    "### HtmlElement\n",
    "#### Features\n",
    "- Basic Element\n",
    "- No JS Data\n",
    "- Only html attrs and value\n",
    "- Value can be a String or array of HtmlElements or Strings\n",
    "- Admits cols argument to define column width"
   ]
  },
  {
   "cell_type": "code",
   "execution_count": 2,
   "metadata": {},
   "outputs": [],
   "source": [
    "# html(tag,value,attrs;kwargs) \n",
    "html(\"h1\",\"Heading Text\",Dict(\"style\"=>\"color:red\"),cols=3)\n",
    "# Special attributes:\n",
    "# Cols: Element width in number of columns, default cols is 2 of 12 columns grid\n",
    "\n",
    "# Array of values(HtmlElements):\n",
    "html(\"div\",[html(\"p\",\"first line\"),html(\"p\",\"second line\")])\n",
    "\n",
    "# Bind of content to element data any attribute present in JS data Structure\n",
    "html(\"h1\",\"{{el1.value}}\");"
   ]
  },
  {
   "cell_type": "markdown",
   "metadata": {},
   "source": [
    "### VueElement\n",
    "#### Features\n",
    "\n",
    "- Basic data structure\n",
    "- With JS Data\n",
    "- Reactive\n",
    "- Input Elements have a value_attr that holds the input value, available using elementid.value\n",
    "- Binds attrs to JS var using binds argument Dict(“attr”=>”jsvar”)\n",
    "- Listens to events, e.g. click. Uses event name as arg and Expression to execute click=”el1.value=’new’”\n",
    "- Admits all attributes available for the specific element\n",
    "- Admits cols argument to define column width\n",
    "- Admits style arg to define style"
   ]
  },
  {
   "cell_type": "code",
   "execution_count": 3,
   "metadata": {},
   "outputs": [],
   "source": [
    "# @el(variable,element type;attributes) attributes should be used according to element original framework documentation (e.g. vuetify)\n",
    "@el(el1,\"v-text-field\",value=\"text\",full-width=true,cols=3,style=Dict(\"color\"=>\"red\"),class=\"ma-2\",storage=true)\n",
    "@el(bt,\"v-btn\",content=\"Link\",click=\"open('https://www.google.com')\",binds=Dict(\"color\"=>\"el1.value=='' ? 'red' : 'green'\"));\n",
    "@el(el2,\"v-text-field\",value=100658.666,v-number=Dict(\"decimal\"=>\".\",\"separator\"=>\" \",\"prefix\"=>\"€ \",\"precision\"=>2))\n",
    "\n",
    "# Special attributes:\n",
    "# click / change / hover : Standard Vue events captured with code execution, inline expressions or custom methods\n",
    "# binds : binds attribute to another element attribute or expression (like a conditional)\n",
    "# Cols: Element width in number of columns, default cols is 2 of 12 columns grid\n",
    "# Style: Dict with CSS attribute and value\n",
    "# Class (vuetify): margin and padding according to vuetify documentation\n",
    "# storage : stores last value of the element in browser\n",
    "# tooltip : shows tooltip on mouse over element, see live example\n",
    "# menu : shows menu on click, see live example\n",
    "# v-number : Directive to handle numbers, Masking and storing in data as a Number, please see vue-number-format documentation for options    "
   ]
  }
 ],
 "metadata": {
  "kernelspec": {
   "display_name": "Julia 1.10.5",
   "language": "julia",
   "name": "julia-1.10"
  },
  "language_info": {
   "file_extension": ".jl",
   "mimetype": "application/julia",
   "name": "julia",
   "version": "1.10.5"
  }
 },
 "nbformat": 4,
 "nbformat_minor": 4
}
