{
 "cells": [
  {
   "cell_type": "code",
   "execution_count": 1,
   "metadata": {},
   "outputs": [],
   "source": [
    "push!(LOAD_PATH,\"/workspace/VueJS.jl/src/\")\n",
    "using VueJS,HTTP"
   ]
  },
  {
   "cell_type": "markdown",
   "metadata": {},
   "source": [
    "### VueHolders\n",
    "#### Features\n",
    "- Contain other Elements (HtmlElements,VueElements,VueStructs)\n",
    "- Do not have a specific reactive Data Model, only hold it's childs (transparent)\n",
    "- Have specific attributes for aesthetics defined in the related vue element (e.g. v-card for card)\n",
    "- Always have a specific helper function  like card, bar and tabs"
   ]
  },
  {
   "cell_type": "code",
   "execution_count": 2,
   "metadata": {},
   "outputs": [],
   "source": [
    "@el(r1,\"v-text-field\",value=\"R1 Value\",label=\"R1\",disabled=false)\n",
    "@el(r2,\"v-text-field\",value=\"R2 Value\",label=\"R2\")\n",
    "\n",
    "card1=card([r1,r2],title=[\"Card Title\"]) ## A card holds any element using the normal grid and can have a title and subtitle\n",
    "page(tabs([\"Tab A\"=>[r1,r2,card1],\"Tab B\"=>[r1,r2]])); ## a tab is a pair of it's name and the elements grid"
   ]
  }
 ],
 "metadata": {
  "kernelspec": {
   "display_name": "Julia 1.6.0-rc3",
   "language": "julia",
   "name": "julia-1.6"
  },
  "language_info": {
   "file_extension": ".jl",
   "mimetype": "application/julia",
   "name": "julia",
   "version": "1.6.0"
  }
 },
 "nbformat": 4,
 "nbformat_minor": 4
}
