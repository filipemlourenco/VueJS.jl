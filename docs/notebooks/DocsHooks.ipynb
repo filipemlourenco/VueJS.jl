{
 "cells": [
  {
   "cell_type": "code",
   "execution_count": 1,
   "metadata": {},
   "outputs": [],
   "source": [
    "push!(LOAD_PATH,\"/workspace/VueJS.jl/src/\")\n",
    "using VueJS,HTTP,Sockets"
   ]
  },
  {
   "cell_type": "markdown",
   "metadata": {},
   "source": [
    "### Life Cycle Hooks\n",
    "#### Each Vue instance goes through a series of initialization steps when it’s created - for example, it needs to set up data observation, compile the template, mount the instance to the DOM, and update the DOM when data changes. Along the way, it also runs functions called lifecycle hooks, giving users the opportunity to add their own code at specific stages.\n",
    "#### See Vue Documentation for available lifecycle hooks, example below with mounted\n"
   ]
  },
  {
   "cell_type": "code",
   "execution_count": 2,
   "metadata": {},
   "outputs": [],
   "source": [
    "@el(el1,\"v-chip\",text-color=\"white\",binds=Dict(\"content\"=>\"comp2<1 ? 'A' : 'B'\",\"color\"=>\"comp2<1 ? 'green' : 'blue'\"),cols=2)\n",
    "@el(el2,\"v-text-field\",label=\"Random Triggered\",binds=Dict(\"value\"=>\"comp1\"),cols=2)\n",
    "@el(el3,\"v-text-field\",label=\"Submited Element x 2\",binds=Dict(\"value\"=>\"comp3\"),cols=2)\n",
    "\n",
    "page([el1,el2,el3],\n",
    "    mounted=\"this.\\$set(this.globals, 'heart_beat', 0);setInterval(function(){app_state.globals.heart_beat=Date.now()},1000)\", ## Defines a var (puts it reactive) and defines interval update\n",
    "    computed=Dict(\"comp1\"=>\"\"\"function(){this.globals.heart_beat; return Math.random()*1000}\"\"\", ## variable dependent on heart_beat\n",
    "                   \"comp2\"=>\"\"\"function(){return this.comp1 % 2}\"\"\"), ## variable dependent computed that depends on heart beat\n",
    "    asynccomputed=Dict(\"comp3\"=>\"\"\"function(){return this.submit('https://httpbin.org/post',{a:this.comp1}).then(x=>JSON.parse(x.responseText).json.a*2)}\"\"\"));\n"
   ]
  }
 ],
 "metadata": {
  "kernelspec": {
   "display_name": "Julia 1.6.0-rc3",
   "language": "julia",
   "name": "julia-1.6"
  },
  "language_info": {
   "file_extension": ".jl",
   "mimetype": "application/julia",
   "name": "julia",
   "version": "1.6.0"
  }
 },
 "nbformat": 4,
 "nbformat_minor": 4
}
