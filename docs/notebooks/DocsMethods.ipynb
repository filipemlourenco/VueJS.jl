{
 "cells": [
  {
   "cell_type": "code",
   "execution_count": 1,
   "metadata": {},
   "outputs": [],
   "source": [
    "push!(LOAD_PATH,\"/workspace/VueJS.jl/src/\")\n",
    "using VueJS,HTTP"
   ]
  },
  {
   "cell_type": "markdown",
   "metadata": {},
   "source": [
    "### Standard Methods"
   ]
  },
  {
   "cell_type": "markdown",
   "metadata": {},
   "source": [
    "#### OPEN"
   ]
  },
  {
   "cell_type": "code",
   "execution_count": 2,
   "metadata": {},
   "outputs": [],
   "source": [
    "# open method has 2 args 2nd is optional: open('page',name)\n",
    "@el(bt,\"v-btn\",content=\"Link\",click=\"open('https://www.google.com')\") # name defaults to _self (opens in same tab)\n",
    "@el(bt,\"v-btn\",content=\"Link\",click=\"open('https://www.google.com','_blank')\"); # name _blank (opens in new tab)"
   ]
  },
  {
   "cell_type": "markdown",
   "metadata": {},
   "source": [
    "#### SUBMIT"
   ]
  },
  {
   "cell_type": "code",
   "execution_count": 3,
   "metadata": {},
   "outputs": [],
   "source": [
    "# submit methods has 4 args function(url, content=null,method='POST', async=true) only url is mandatory\n",
    "@el(bt,\"v-btn\",content=\"Link\",click=\"submit('sub_page')\"); # when no content is provided submits all page elements (value attr) including files and nested structs\n",
    "@el(bt,\"v-btn\",content=\"Link\",click=\"submit('sub_page',{a:tf1.value,b:tf2.value})\"); # when content is provided submits the object with POST method \n",
    "\n",
    "# if you need to submit everything with different method you can do it providing null to content\n",
    "@el(bt,\"v-btn\",content=\"Link\",click=\"submit('sub_page',null,'PUT')\");\n",
    "\n",
    "@el(el1,\"v-text-field\",value=\"default text\")\n",
    "\n",
    "## Server side ou should use Standard parse function\n",
    "function sub_page(req::HTTP.Request)\n",
    "   \n",
    "    data=VueJS.parse(req)\n",
    "    \n",
    "    # data has body and headers in the correct format\n",
    "    \n",
    "    return \"OK\"\n",
    "end\n",
    "\n",
    "# Submits returns a promise, you can deal with it in the standard promise way\n",
    "@el(bt,\"v-btn\",content=\"Link\",click=\"submit('sub_page').then(x=>el1.value=(x.responseText)).catch(x=>el1.value='error')\");"
   ]
  },
  {
   "cell_type": "markdown",
   "metadata": {},
   "source": [
    "### Custom Methods"
   ]
  },
  {
   "cell_type": "code",
   "execution_count": 4,
   "metadata": {},
   "outputs": [],
   "source": [
    "## You can create custom methods associated with VueStructs or pages\n",
    "@el(el1,\"v-text-field\",label=\"Nr1\",type=\"number\")   \n",
    "@el(el2,\"v-text-field\",label=\"Nr2\",type=\"number\")   \n",
    "@el(bt,\"v-btn\",content=\"Link\",click=\"cfn(el1.value)\");\n",
    "\n",
    "page([el1,el2,bt],methods=Dict(\"cfn\"=>\"\"\"function(arg){this.el2.value=arg*2}\"\"\")) ## the function code should use \"this\" keyword\n",
    "## The above example can be achieved with only an inline expression in button click, like: click=\"el2.value=el1.value*2\"\n",
    "\n",
    "page([el1,el2,bt],methods=Dict(\"cfn\"=>\"\"\"function(arg){window.alert(arg)}\"\"\")); ## if you invoke a top level function, like alert should be preceded by window object"
   ]
  }
 ],
 "metadata": {
  "kernelspec": {
   "display_name": "Julia 1.5.3",
   "language": "julia",
   "name": "julia-1.5"
  },
  "language_info": {
   "file_extension": ".jl",
   "mimetype": "application/julia",
   "name": "julia",
   "version": "1.5.3"
  }
 },
 "nbformat": 4,
 "nbformat_minor": 4
}
