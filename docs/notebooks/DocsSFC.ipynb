{
 "cells": [
  {
   "cell_type": "code",
   "execution_count": null,
   "metadata": {
    "tags": []
   },
   "outputs": [],
   "source": [
    "push!(LOAD_PATH,\"/workspace/VueJS.jl/src/\")\n",
    "using VueJS,HTTP"
   ]
  },
  {
   "cell_type": "markdown",
   "metadata": {},
   "source": [
    "### Single File Component\n",
    "#### Features\n",
    "- Hold SFC attributes\n",
    "- Component name (e.g. \"myHome\") is the component name and tag/placeholder that will be rendered ni the page `<myHome/>`\n",
    "- URL is where the file will be made available (by teh webserver)\n",
    "- Path is the file location in the repository\n",
    "- Prop is the prop that wil be included in the component placeholder (e.g.`<myHome/ title=\"This is my title\">`)"
   ]
  },
  {
   "cell_type": "code",
   "execution_count": null,
   "metadata": {},
   "outputs": [],
   "source": [
    "# Create an SFC record with the component ID and URL (made available by the webserver)\n",
    "c = VueSFC(\"myPage\", \"/pages/About.vue\")\n",
    "\n",
    "# Create an SFC record with URL. ID will be the filename (without extension)\n",
    "c = VueSFC(\"/pages/About.vue\")\n",
    "\n",
    "# Create an SFC record with URL and path\n",
    "c = VueSFC(\"PageLayout\", \"layouts/PageLayout.vue\", \"web/layouts/PageLayout.vue\")\n",
    "\n",
    "# Create as SFC with a prop\n",
    "c = VueSFC(\"PageLayout\", \"layouts/PageLayout.vue\", props=Dict(\"title\"=>\"my title\"))\n",
    "c = VueSFC(\"layouts/PageLayout.vue\", props=Dict(\"title\"=>\"my title\"))\n",
    "c = VueSFC(\"PageLayout\", \"layouts/PageLayout.vue\", \"web/layouts/PageLayout.vue\", props=Dict(\"title\"=>\"my title\"))\n"
   ]
  },
  {
   "cell_type": "markdown",
   "metadata": {},
   "source": [
    "### Single File Component page\n",
    "#### Features\n",
    "- Create a page from a VueSFC list\n",
    "- If no placeholder is defined, the method will use the ID from the from the first element of the vector\n",
    "- All available propreties in a Page can be setup with kwargs"
   ]
  },
  {
   "cell_type": "code",
   "execution_count": null,
   "metadata": {},
   "outputs": [],
   "source": [
    "# Create a page detailing placeholder (<myPage />) and available components\n",
    "p = sfc_page(\"myPage\", [\n",
    "    VueSFC(\"myPage\", \"/pages/Home.vue\"),\n",
    "    VueSFC(\"myMenu\", \"/components/Menu.vue\"),\n",
    "    VueSFC(\"myComp\", \"/components/Component.vue\")\n",
    "])\n",
    "\n",
    "# Create a page detailing available components. Placeholder will be the first element of the vector (<myPage />)\n",
    "p = sfc_page([\n",
    "    VueJS.VueSFC(\"myPage\", \"/pages/Home.vue\"),\n",
    "    VueJS.VueSFC(\"myMenu\", \"/components/Menu.vue\")\n",
    "], title=\"Home\")\n"
   ]
  },
  {
   "cell_type": "markdown",
   "metadata": {},
   "source": [
    "### Single File Component page, from a repo folder (recommended usage)\n",
    "#### Features\n",
    "- Create a Page from a repo folder (e.g. `/web`)\n",
    "- Only needs a placeholder (`<Home />`)\n",
    "- Will scan for all available SFC files (in the default folder or user defined paths)"
   ]
  },
  {
   "cell_type": "code",
   "execution_count": null,
   "metadata": {},
   "outputs": [],
   "source": [
    "# Create a page with Form as a placeholder (<Form />) and using the default ('web') repository folder. Method will search for all available files in the folder and sub-folders.\n",
    "p = sfc_page(\"Form\")\n",
    "\n",
    "# Create a page as above and using the available Page attributes (e.g. title, meta, etc.)\n",
    "p = sfc_page(\"Form\", title=\"FORM\")\n",
    "\n",
    "# Create a page from specific folder(s)\n",
    "p = sfc_page(\"Form\", \"src/web\")\n",
    "p = sfc_page(\"Form\", [\"web\", \"src/handlers/web\"])\n",
    "\n",
    "# Create a page with specific files\n",
    "p = sfc_page(\"Form\", [\"web/Page.vue\", \"components/Button.vue\"])\n"
   ]
  },
  {
   "cell_type": "markdown",
   "metadata": {},
   "source": [
    "### Single File Component page response\n",
    "#### Features\n",
    "\n",
    "- Simple and direct way to create a SFC Page and response\n",
    "- Only needs a placeholder (`<Home />`)\n",
    "- Will scan for all available SFC files (in the default folder or user defined paths)"
   ]
  },
  {
   "cell_type": "code",
   "execution_count": null,
   "metadata": {},
   "outputs": [],
   "source": [
    "# Create a HTTP response \n",
    "r = sfc_response(\"Home\")\n",
    "r = sfc_response(\"Page\", \"src/web\"))\n",
    "r = sfc_response(\"Page\", [\"web/pages\", \"web/components/Button.vue\"]))\n",
    "r = sfc_response(\"About\", title=\"About\"))\n",
    "\n",
    "\n",
    "# Using sfc_response in HTTP routes\n",
    "HTTP.register!(routes, \"GET\", \"/\",      (req)->sfc_response(\"Home\"))\n",
    "HTTP.register!(routes, \"GET\", \"/Page\",  (req)->sfc_response(\"Page\", \"src/web\"))\n",
    "HTTP.register!(routes, \"GET\", \"/Home\",  (req)->sfc_response(\"Home\", [\"web/pages\", \"web/components/Button.vue\"]))\n",
    "HTTP.register!(routes, \"GET\", \"/About\", (req)->sfc_response(\"About\", title=\"About\"))\n"
   ]
  }
 ],
 "metadata": {
  "kernelspec": {
   "display_name": "Julia 1.7.1",
   "language": "julia",
   "name": "julia-1.7"
  },
  "language_info": {
   "file_extension": ".jl",
   "mimetype": "application/julia",
   "name": "julia",
   "version": "1.7.1"
  }
 },
 "nbformat": 4,
 "nbformat_minor": 4
}
