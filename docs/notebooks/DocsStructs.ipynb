{
 "cells": [
  {
   "cell_type": "code",
   "execution_count": 1,
   "metadata": {},
   "outputs": [],
   "source": [
    "push!(LOAD_PATH,\"/workspace/VueJS.jl/src/\")\n",
    "using VueJS"
   ]
  },
  {
   "cell_type": "markdown",
   "metadata": {},
   "source": [
    "### VueStruct\n",
    "#### Features\n",
    "- Allows reusability of elements disposed in a specific grid in severall pages\n",
    "- Allows injection of data default values\n",
    "- Allows specific methods, computed, watch and asynccomputed\n",
    "- Has a iterable mode that repeats the grid the number of data array positions, with add and remove methods\n",
    "- Has specific data context\n",
    "- Has specific submit function"
   ]
  },
  {
   "cell_type": "code",
   "execution_count": 2,
   "metadata": {},
   "outputs": [],
   "source": [
    "@el(el1,\"v-text-field\",value=\"text\",full-width=true,cols=3,style=Dict(\"color\"=>\"red\"),class=\"ma-2\")\n",
    "@el(bt,\"v-btn\",content=\"Link\",click=\"my_alert(el1.value)\");\n",
    "\n",
    "# @st(variable,elements;kwargs) elements is an array of elements using the grid system, see live examples. kwargs are defined below\n",
    "@st(vs1,[el1,bt],data=Dict(\"el1\"=>\"default text\"),methods=Dict(\"my_alert\"=>\"(arg)=>{window.alert(arg)}\"));\n",
    "\n",
    "## Kwargs\n",
    "# data : default value for elements, uses the value_attr of the element\n",
    "# methods : defines methods using a Dict, key is method name, value is the function\n",
    "# computed : creates new element dependent on other one\n",
    "\n",
    "@el(el1,\"v-text-field\",value=100,full-width=true,cols=3,type=\"number\")\n",
    "@st(vs1,[el1,bt],data=Dict(\"el1\"=>500),computed=Dict(\"comp1\"=>\"\"\"function(){return this.el1.value*10}\"\"\"));\n",
    "\n",
    "## Iterable Vue Structs\n",
    "# see Live Example"
   ]
  },
  {
   "cell_type": "markdown",
   "metadata": {},
   "source": [
    "### Dialog\n",
    "#### Features\n",
    "- Dialog internally is a Vue Struct and has the same sintax\n",
    "- Has active property to show or hide\n"
   ]
  },
  {
   "cell_type": "code",
   "execution_count": 3,
   "metadata": {},
   "outputs": [],
   "source": [
    "@el(btn_off,\"v-btn\",content=\"CLOSE\",click=\"active.value=false\")\n",
    "@dialog(dial,[el1,btn_off],width=600);\n",
    "\n",
    "@el(bt_on,\"v-btn\",content=\"Link\",click=\"dial.active.value=true\");\n",
    "@st(vs1,[el1,bt_on,dial]);"
   ]
  }
 ],
 "metadata": {
  "kernelspec": {
   "display_name": "Julia 1.6.0-rc3",
   "language": "julia",
   "name": "julia-1.6"
  },
  "language_info": {
   "file_extension": ".jl",
   "mimetype": "application/julia",
   "name": "julia",
   "version": "1.6.0"
  }
 },
 "nbformat": 4,
 "nbformat_minor": 4
}
