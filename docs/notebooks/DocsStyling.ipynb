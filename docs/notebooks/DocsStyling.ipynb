{
 "cells": [
  {
   "cell_type": "code",
   "execution_count": null,
   "metadata": {
    "tags": []
   },
   "outputs": [],
   "source": [
    "push!(LOAD_PATH,\"/workspace/VueJS.jl/src/\")\n",
    "using VueJS"
   ]
  },
  {
   "cell_type": "markdown",
   "metadata": {},
   "source": [
    "### Styling\n",
    "#### Features\n",
    "- Allows definition of 3 levels of styling: App, page and element\n",
    "- Binding of style attrs in JS data that allows for client side reactivity\n",
    "- Usage of class attr for padding and margin (see documentation o Vuetify)\n"
   ]
  },
  {
   "cell_type": "code",
   "execution_count": null,
   "metadata": {
    "tags": []
   },
   "outputs": [],
   "source": [
    "@el(bt,\"v-btn\",content=\"Link\",click=\"open('https://www.google.com')\")\n",
    "\n",
    "# App Style definition\n",
    "@style \"v-btn\" color=\"red\" background-color=\"black\"\n",
    "@class \"v-btn\" \"ma-5\"\n",
    "\n",
    "# Page Style definition (overrides App)\n",
    "page([bt],style=Dict(\"v-btn\"=>Dict(\"color\"=>\"red\",\"background-color\"=>\"black\")),class=Dict(\"v-btn\"=>\"ma-5\"))\n",
    "\n",
    "# Element Style definition (overrides App and Page)\n",
    "@el(bt,\"v-btn\",content=\"Submit\",style=Dict(\"color\"=>\"red\",\"background-color\"=>\"black\"),class=\"ma-5\");"
   ]
  },
  {
   "cell_type": "code",
   "execution_count": null,
   "metadata": {
    "tags": []
   },
   "outputs": [],
   "source": [
    "## CSS Macro allows to create custom css or override existing ones\n",
    "@css \".custom_css\" Dict(\"background-color\"=>\"lightcyan\",\"font-weight\"=>\"bold\") # See usage in Basic Datatable Example"
   ]
  }
 ],
 "metadata": {
  "kernelspec": {
   "display_name": "Julia 1.6.3",
   "language": "julia",
   "name": "julia-1.6"
  },
  "language_info": {
   "file_extension": ".jl",
   "mimetype": "application/julia",
   "name": "julia",
   "version": "1.6.3"
  }
 },
 "nbformat": 4,
 "nbformat_minor": 4
}
